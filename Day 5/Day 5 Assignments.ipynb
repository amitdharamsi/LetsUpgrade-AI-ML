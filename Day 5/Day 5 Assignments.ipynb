{
 "cells": [
  {
   "cell_type": "code",
   "execution_count": 1,
   "metadata": {},
   "outputs": [
    {
     "name": "stdout",
     "output_type": "stream",
     "text": [
      "1 ) 3 is a prime number\n",
      "2 ) 5 is a prime number\n",
      "3 ) 7 is a prime number\n",
      "4 ) 11 is a prime number\n",
      "5 ) 13 is a prime number\n",
      "6 ) 17 is a prime number\n",
      "7 ) 19 is a prime number\n",
      "8 ) 23 is a prime number\n",
      "9 ) 29 is a prime number\n",
      "10 ) 31 is a prime number\n",
      "11 ) 37 is a prime number\n",
      "12 ) 41 is a prime number\n",
      "13 ) 43 is a prime number\n",
      "14 ) 47 is a prime number\n",
      "15 ) 53 is a prime number\n",
      "16 ) 59 is a prime number\n",
      "17 ) 61 is a prime number\n",
      "18 ) 67 is a prime number\n",
      "19 ) 71 is a prime number\n",
      "20 ) 73 is a prime number\n"
     ]
    }
   ],
   "source": [
    "#Question 1 :\n",
    "#Write a Python program to find the first 20 non-even prime natural numbers.\n",
    "noofprime = 0\n",
    "i=0\n",
    "while noofprime < 20:\n",
    "    if not(i<=1 or i%2==0):\n",
    "        for j in range(2,i):\n",
    "            if (i%j==0):\n",
    "                #print(i,\"is not a prime number\")\n",
    "                break\n",
    "        else:\n",
    "            print(noofprime+1,\")\",i,\"is a prime number\")\n",
    "            noofprime = noofprime+1\n",
    "    i=i+1\n"
   ]
  },
  {
   "cell_type": "code",
   "execution_count": 2,
   "metadata": {},
   "outputs": [
    {
     "name": "stdout",
     "output_type": "stream",
     "text": [
      "1 ) 3 is a prime number\n",
      "2 ) 5 is a prime number\n",
      "3 ) 7 is a prime number\n",
      "4 ) 11 is a prime number\n",
      "5 ) 13 is a prime number\n",
      "6 ) 17 is a prime number\n",
      "7 ) 19 is a prime number\n",
      "8 ) 23 is a prime number\n",
      "9 ) 29 is a prime number\n",
      "10 ) 31 is a prime number\n",
      "11 ) 37 is a prime number\n",
      "12 ) 41 is a prime number\n",
      "13 ) 43 is a prime number\n",
      "14 ) 47 is a prime number\n",
      "15 ) 53 is a prime number\n",
      "16 ) 59 is a prime number\n",
      "17 ) 61 is a prime number\n",
      "18 ) 67 is a prime number\n",
      "19 ) 71 is a prime number\n",
      "20 ) 73 is a prime number\n"
     ]
    }
   ],
   "source": [
    "#Alternative Solution\n",
    "#Question 1 :\n",
    "#Write a Python program to find the first 20 non-even prime natural numbers.\n",
    "\n",
    "import sympy\n",
    "\n",
    "noofprime = 0\n",
    "i=0\n",
    "while noofprime < 20:\n",
    "    if(sympy.isprime(i)) and (i%2!=0):\n",
    "        print(noofprime+1,\")\",i,\"is a prime number\")\n",
    "        noofprime=noofprime+1\n",
    "    i=i+1\n",
    "    \n",
    "\n"
   ]
  },
  {
   "cell_type": "code",
   "execution_count": 3,
   "metadata": {},
   "outputs": [
    {
     "name": "stdout",
     "output_type": "stream",
     "text": [
      "Letsupgrade ai-ml classes\n",
      "lETSuPGRADE ai-ml cLASSES\n",
      "Letsupgrade Ai-Ml Classes\n",
      "LETSUPGRADE AI-ML CLASSES\n",
      "letsupgrade ai-ml classes\n",
      "['LetsUpgrade AI', 'ML Classes']\n",
      "False\n",
      "False\n",
      "************LetsUpgrade AI-ML Classes*************\n",
      "4\n",
      "('Let', 's', 'Upgrade AI-ML Classes')\n",
      "LetzUpgrade AI-ML Clazzez\n",
      "etsUpgrade AI-ML Classe\n",
      "0000000000000000000000000LetsUpgrade AI-ML Classes\n",
      "14\n"
     ]
    }
   ],
   "source": [
    "#Question 2 :\n",
    "#Write a Python program to implement 15 functions of string.\n",
    "\n",
    "inputstr = \"LetsUpgrade AI-ML Classes\"\n",
    "#1\n",
    "print(inputstr.capitalize()) #Return a copy of the string with only its first character capitalized\n",
    "#2\n",
    "print(inputstr.swapcase())  #Return a copy of the string with uppercase characters converted to lowercase and vice versa.\n",
    "#3\n",
    "print(inputstr.title())    #Return a titlecased version of the string: words start with uppercase characters, all remaining cased characters are lowercase\n",
    "#4\n",
    "print(inputstr.upper())   #Return a copy of the string converted to uppercase.\n",
    "#5\n",
    "print(inputstr.lower())   #Return a copy of the string converted to lowercase.\n",
    "#6\n",
    "print(inputstr.split(\"-\"))  #Return a list of the words in the string, using sep as the delimiter string.\n",
    "#7\n",
    "print(inputstr.isalpha())    #Return true if all characters in the string are alphabetic and there is at least one character, false otherwise\n",
    "#8\n",
    "print(inputstr.isdigit())    #Return true if all characters in the string are digits and there is at least one character, false otherwise.\n",
    "#9\n",
    "print(inputstr.center(50,\"*\"))  #Return centered in a string of length width. Padding is done using the specified fillchar (default is a space)\n",
    "#10\n",
    "print(inputstr.count('s'))   #Return the number of occurrences of substring sub in string S[start:end]\n",
    "#11\n",
    "print(inputstr.partition(\"s\"))  #Split the string at the first occurrence of sep, and return a 3-tuple containing the part before the separator, the separator itself, and the part after the separator\n",
    "#12\n",
    "print(inputstr.replace('s','z'))   #Return a copy of the string with all occurrences of substring old replaced by new\n",
    "#13\n",
    "print(inputstr.strip('sL'))    #Return a copy of the string with the leading and trailing characters removed. The chars argument is a string specifying the set of characters to be removed. If omitted or None, the chars argument defaults to removing whitespace\n",
    "#14\n",
    "print(inputstr.zfill(50))   #Return the numeric string left filled with zeros in a string of length width.\n",
    "#15\n",
    "print(inputstr.find('-'))   #Return the lowest index in the string where substring sub is found, such that sub is contained in the range [start, end].\n",
    "\n",
    "\n"
   ]
  },
  {
   "cell_type": "code",
   "execution_count": 4,
   "metadata": {},
   "outputs": [
    {
     "name": "stdout",
     "output_type": "stream",
     "text": [
      "Please enter first string: Madam\n",
      "Please enter second string: madam\n",
      "String Madam and string madam are Palindrome of each other\n",
      "\n",
      "\n",
      "Please enter first string: Silent\n",
      "Please enter second string: Listen\n",
      "String Silent and string Listen Anagram of each other\n",
      "\n",
      "\n",
      "Please enter first string: King\n",
      "Please enter second string: Queen\n",
      "None of them\n",
      "\n",
      "\n",
      "All cases demonstrated\n"
     ]
    }
   ],
   "source": [
    "#Question 3:\n",
    "#Write a Python program to check if the given string is a Palindrome or Anagram or None of them.\n",
    "#Display the message accordingly to the user.\n",
    "i=1\n",
    "while i<=3:\n",
    "    string1 = input(\"Please enter first string: \")\n",
    "    string2 = input(\"Please enter second string: \")\n",
    "\n",
    "    if ((string1[::-1]).lower()==string2.lower()):\n",
    "        print(\"String\",string1,\"and string\",string2,\"are Palindrome of each other\")\n",
    "    elif (sorted(string1.lower())==sorted(string2.lower())):\n",
    "        print(\"String\",string1,\"and string\",string2,\"Anagram of each other\")\n",
    "    else:\n",
    "        print(\"None of them\")\n",
    "    i=i+1\n",
    "    print(\"\\n\")\n",
    "print(\"All cases demonstrated\")"
   ]
  },
  {
   "cell_type": "code",
   "execution_count": 5,
   "metadata": {},
   "outputs": [
    {
     "name": "stdout",
     "output_type": "stream",
     "text": [
      "drdarshaningleaimltrainer\n"
     ]
    }
   ],
   "source": [
    "#Question 4:\n",
    "#Write a Python's user defined function that removes all the additional characters from the string\n",
    "#and converts it finally to lower case using built-in lower(). eg: If the string is \"Dr. Darshan Ingle\n",
    "#@AI-ML Trainer\", then the output be \"drdarshaningleaimltrainer\".\n",
    "\n",
    "def printonlyalpha(strval):\n",
    "    a=\"\"\n",
    "    for i in strval:\n",
    "        if (i.isalpha()==True):\n",
    "            a=a+i\n",
    "    print(a.lower())\n",
    "        \n",
    "printonlyalpha(\"Dr. Darshan Ingle#@AI-ML Trainer\")"
   ]
  },
  {
   "cell_type": "code",
   "execution_count": null,
   "metadata": {},
   "outputs": [],
   "source": []
  },
  {
   "cell_type": "code",
   "execution_count": null,
   "metadata": {},
   "outputs": [],
   "source": []
  }
 ],
 "metadata": {
  "kernelspec": {
   "display_name": "Python 3",
   "language": "python",
   "name": "python3"
  },
  "language_info": {
   "codemirror_mode": {
    "name": "ipython",
    "version": 3
   },
   "file_extension": ".py",
   "mimetype": "text/x-python",
   "name": "python",
   "nbconvert_exporter": "python",
   "pygments_lexer": "ipython3",
   "version": "3.7.6"
  }
 },
 "nbformat": 4,
 "nbformat_minor": 4
}
