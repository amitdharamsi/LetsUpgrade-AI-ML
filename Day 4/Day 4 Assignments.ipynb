{
 "cells": [
  {
   "cell_type": "code",
   "execution_count": 48,
   "metadata": {},
   "outputs": [
    {
     "name": "stdout",
     "output_type": "stream",
     "text": [
      "Addition of two complex numbers: (40+5j) and (4+2j) is (44+7j) \n",
      "\n",
      "Subtraction of two complex numbers: (40+5j) and (4+2j) is (36+3j) \n",
      "\n",
      "Multiplication of two complex numbers: (40+5j) and (4+2j) is (150+100j) \n",
      "\n",
      "Division of two complex numbers: (40+5j) and (4+2j) is (8.5-3j) \n",
      "\n"
     ]
    }
   ],
   "source": [
    "#Question 1\n",
    "#Addition, Subtraction, Multiplication, Division, Floor Division and Modulo Operation of Complex Numbers\n",
    "\n",
    "a = 40+5j\n",
    "b = 4+2j\n",
    "\n",
    "print(\"Addition of two complex numbers:\",a,\"and\",b,\"is\",a+b,\"\\n\")\n",
    "print(\"Subtraction of two complex numbers:\",a,\"and\",b,\"is\",a-b,\"\\n\")\n",
    "print(\"Multiplication of two complex numbers:\",a,\"and\",b,\"is\",a*b,\"\\n\")\n",
    "print(\"Division of two complex numbers:\",a,\"and\",b,\"is\",a/b,\"\\n\")\n",
    "\n",
    "#Floor and modulus operators (// and % respectively) are not allowed to be used on complex number in Python 3.x. \n",
    "#However, these operations are defined for complex numbers in Python 2.7\n",
    "#Reference: https://www.tutorialspoint.com/How-does-modulus-work-with-complex-numbers-in-Python\n"
   ]
  },
  {
   "cell_type": "code",
   "execution_count": 49,
   "metadata": {},
   "outputs": [],
   "source": [
    "#Question 2 :\n",
    "#Research on range() functions and its parameters. Create a markdown cell and write in your own\n",
    "#words (no copy-paste from google please) what you understand about it. Implement a small\n",
    "#program of your choice on the same.\n"
   ]
  },
  {
   "cell_type": "markdown",
   "metadata": {},
   "source": [
    "# Range\n",
    "\n",
    "## Syntax\n",
    "The syntax of **range()** is\n",
    "* range(start, end, step)\n",
    "\n",
    "**range()** is inbuilt python function that returns a sequence of numbers starting with a number in *__start__* position, continues till the number at *__end__* position (not included) with an increment of number specified in *__step__* position.\n",
    "\n",
    "### Parameters\n",
    "*__end__* parameter is mandatory while *__start__* and *__step__* are optional parameters\n",
    "The default value of *__start__* parameter is 0 and the default value of *__step__* is 1\n",
    "\n",
    "## Example:\n",
    "x = range(3, 6)  \n",
    "for n in x:  \n",
    "print(n)"
   ]
  },
  {
   "cell_type": "code",
   "execution_count": 47,
   "metadata": {},
   "outputs": [
    {
     "name": "stdout",
     "output_type": "stream",
     "text": [
      "0, 2, 4, 6, 8, 10, 12, 14, 16, 18, 20, 22, 24, 26, 28, 30, 32, 34, 36, 38, 40, 42, 44, 46, 48, 50, 52, 54, 56, 58, 60, 62, 64, 66, 68, 70, 72, 74, 76, 78, 80, 82, 84, 86, 88, 90, 92, 94, 96, 98, "
     ]
    }
   ],
   "source": [
    "## Using range() print all even numbers\n",
    "for i in range(0,100,2):\n",
    "    print(i,end=\", \")"
   ]
  },
  {
   "cell_type": "code",
   "execution_count": 24,
   "metadata": {},
   "outputs": [
    {
     "name": "stdout",
     "output_type": "stream",
     "text": [
      "Subtraction result is less than 25. Hence, perform division.\n",
      "1.0714285714285714\n"
     ]
    }
   ],
   "source": [
    "#Question 3\n",
    "#Consider two numbers. Perform their subtraction and if the result of subtraction is greater than \n",
    "#25, print their multiplication result else print their division result.\n",
    "\n",
    "a = 75\n",
    "b = 70\n",
    "\n",
    "if (a-b)>25:\n",
    "    print(\"Subtraction result is greater than 25. Hence, perform multiplication.\")\n",
    "    print(a*b)\n",
    "else:\n",
    "    print(\"Subtraction result is less than 25. Hence, perform division.\")\n",
    "    print(a/b)"
   ]
  },
  {
   "cell_type": "code",
   "execution_count": 37,
   "metadata": {},
   "outputs": [
    {
     "name": "stdout",
     "output_type": "stream",
     "text": [
      "Square of even element 2 minus 2 = 2\n",
      "Square of even element 56 minus 2 = 3134\n",
      "Square of even element 78 minus 2 = 6082\n",
      "Square of even element 56 minus 2 = 3134\n",
      "Square of even element 12 minus 2 = 142\n"
     ]
    }
   ],
   "source": [
    "#Question 4\n",
    "#Consider a list of 10 elements of integer values. If the number in the list is divisible by 2, print the\n",
    "#result as \"square of that number minus 2\n",
    "\n",
    "l = [2,56,45,23,78,56,49,87,12,9]\n",
    "\n",
    "for i in l:\n",
    "    if (i%2==0):\n",
    "        print((\"Square of even element {} minus 2 = {}\".format(i,(i**2)-2)))"
   ]
  },
  {
   "cell_type": "code",
   "execution_count": 42,
   "metadata": {},
   "outputs": [
    {
     "name": "stdout",
     "output_type": "stream",
     "text": [
      "List of elements that are greater than 7 when that number is divided by 2:\n",
      "56\n",
      "45\n",
      "23\n",
      "53\n",
      "87\n"
     ]
    }
   ],
   "source": [
    "#Question 5\n",
    "#Consider a list of 10 elements. Print all the elements in the list which are greater than 7 when that\n",
    "#number is divided 2.\n",
    "\n",
    "l = [2,56,45,23,10,53,87,12,9]\n",
    "\n",
    "print(\"List of elements that are greater than 7 when that number is divided by 2:\")\n",
    "for i in l:\n",
    "    if (i//2 >7):\n",
    "        print(i)"
   ]
  }
 ],
 "metadata": {
  "kernelspec": {
   "display_name": "Python 3",
   "language": "python",
   "name": "python3"
  },
  "language_info": {
   "codemirror_mode": {
    "name": "ipython",
    "version": 3
   },
   "file_extension": ".py",
   "mimetype": "text/x-python",
   "name": "python",
   "nbconvert_exporter": "python",
   "pygments_lexer": "ipython3",
   "version": "3.7.6"
  }
 },
 "nbformat": 4,
 "nbformat_minor": 4
}
