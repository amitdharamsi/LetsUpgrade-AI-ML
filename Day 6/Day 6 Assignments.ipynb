{
 "cells": [
  {
   "cell_type": "code",
   "execution_count": 142,
   "metadata": {},
   "outputs": [
    {
     "name": "stdout",
     "output_type": "stream",
     "text": [
      "Please enter an email address: amit.dharamsi@google.com\n",
      "Company Name: google\n"
     ]
    }
   ],
   "source": [
    "#Question 1\n",
    "#Assuming that we have some email addresses in the \"username@companyname.com\" format, please write program\n",
    "#to print the company name of a given email address. Both user names and company names are composed of letters only.\n",
    "\n",
    "email_add = input(\"Please enter an email address: \")\n",
    "print(\"Company Name:\",email_add.split(\"@\")[1].split('.')[0])"
   ]
  },
  {
   "cell_type": "code",
   "execution_count": 141,
   "metadata": {},
   "outputs": [
    {
     "name": "stdout",
     "output_type": "stream",
     "text": [
      "Please enter a comma separated string.. without,     hello,    bag,    world\n",
      "bag,hello,without,world\n"
     ]
    }
   ],
   "source": [
    "#Question 2\n",
    "#Write a program that accepts a comma-separated sequence of words as input and prints the words in a comma\n",
    "#separated sequence after sorting them alphabetically.\n",
    "\n",
    "input_str = input(\"Please enter a comma separated string.. \")\n",
    "input_str_list = list(map(lambda x: x.replace(' ', ''), input_str.split(\",\")))\n",
    "input_str_list.sort()\n",
    "listToStr = ','.join(map(str, input_str_list))\n",
    "print(listToStr)"
   ]
  },
  {
   "cell_type": "code",
   "execution_count": 129,
   "metadata": {},
   "outputs": [
    {
     "name": "stdout",
     "output_type": "stream",
     "text": [
      "Please enter consecutive numbers starting from 1 with one missing number: 1 3 5 11\n",
      "Missing Numbers are:  2 4 6 7 8 9 10\n"
     ]
    }
   ],
   "source": [
    "# Question 3\n",
    "#Given a list of n-1 numbers ranging from 1 to n, your task is to find the missing number. There are no duplicates.\n",
    "#Input Format:\n",
    "#The first line contains n-1 numbers with each number separated by a space.\n",
    "#  Output Format:\n",
    "#  Print the missing number\n",
    "#  Example:\n",
    "#  Input:1 2 4 6 3 7 8\n",
    "#  Output:5\n",
    "#  Explanation:\n",
    "#  In the above list of numbers 5 is missing and hence 5 is the input\n",
    "\n",
    "num_str = input(\"Please enter consecutive numbers starting from 1 with one missing number: \")\n",
    "num_str_list = list(map(int, num_str.split(\" \")))\n",
    "num_str_list.sort()\n",
    "miss_num_list = (list(set(range(int(num_str_list[0]),int(num_str_list[-1])+1)) - set(num_str_list)))\n",
    "miss_num_str=' '.join(map(str, miss_num_list)) \n",
    "print(\"Missing Numbers are: \",miss_num_str)\n"
   ]
  },
  {
   "cell_type": "code",
   "execution_count": 122,
   "metadata": {},
   "outputs": [
    {
     "name": "stdout",
     "output_type": "stream",
     "text": [
      "12 24 35 24 88 120 155 88 120 155\n",
      "Output with Duplicates removed and Order preserved:  12 24 35 88 120 155\n"
     ]
    }
   ],
   "source": [
    "#Question 5\n",
    "#With a given list L, write a program to print this list L after removing all duplicate values with original order reserved.\n",
    "#Example:\n",
    "#If the input list is\n",
    "#12 24 35 24 88 120 155 88 120 155\n",
    "#Then the output should be\n",
    "#12 24 35 88 120 155\n",
    "\n",
    "input_list = list(map(int,input().strip().split()))    #[12 24 35 24 88 120 155 88 120 155]\n",
    "dup_removed= ' '.join(map(str, list(dict.fromkeys(input_list) )))\n",
    "print(\"Output with Duplicates removed and Order preserved: \",dup_removed)\n"
   ]
  },
  {
   "cell_type": "code",
   "execution_count": null,
   "metadata": {},
   "outputs": [],
   "source": []
  }
 ],
 "metadata": {
  "kernelspec": {
   "display_name": "Python 3",
   "language": "python",
   "name": "python3"
  },
  "language_info": {
   "codemirror_mode": {
    "name": "ipython",
    "version": 3
   },
   "file_extension": ".py",
   "mimetype": "text/x-python",
   "name": "python",
   "nbconvert_exporter": "python",
   "pygments_lexer": "ipython3",
   "version": "3.7.6"
  }
 },
 "nbformat": 4,
 "nbformat_minor": 4
}
