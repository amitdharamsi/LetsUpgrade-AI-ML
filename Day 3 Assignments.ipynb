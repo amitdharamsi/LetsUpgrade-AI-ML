{
 "cells": [
  {
   "cell_type": "code",
   "execution_count": 4,
   "metadata": {},
   "outputs": [
    {
     "name": "stdout",
     "output_type": "stream",
     "text": [
      "Result of subtraction of two complex numbers is (10-2j)\n"
     ]
    }
   ],
   "source": [
    "#Question 1\n",
    "#Write a program to subtract two complex numbers in Python\n",
    "\n",
    "a = 20+4j\n",
    "b = 10+6j\n",
    "print(\"Result of subtraction of two complex numbers is\",a-b)"
   ]
  },
  {
   "cell_type": "code",
   "execution_count": 8,
   "metadata": {},
   "outputs": [
    {
     "name": "stdout",
     "output_type": "stream",
     "text": [
      "The 4th root of 16 is 2.0\n"
     ]
    }
   ],
   "source": [
    "#Question 2\n",
    "#Write a program to find the 4th root of a number\n",
    "\n",
    "a = 16\n",
    "b = a**(1/4)\n",
    "print(\"The 4th root of\",a,\"is\",b)"
   ]
  },
  {
   "cell_type": "code",
   "execution_count": 14,
   "metadata": {},
   "outputs": [
    {
     "name": "stdout",
     "output_type": "stream",
     "text": [
      "Before swap: a = 4 and b = 8\n",
      "After swap: a = 8 and b = 4\n"
     ]
    }
   ],
   "source": [
    "#Question 3\n",
    "#Write a program to swap two numbers in Python with the help of a temporary number\n",
    "\n",
    "a = 4\n",
    "b = 8\n",
    "print(\"Before swap: a =\",a,\"and b =\",b)\n",
    "c = a\n",
    "a = b\n",
    "b = c\n",
    "print(\"After swap: a =\",a,\"and b =\",b)"
   ]
  },
  {
   "cell_type": "code",
   "execution_count": 15,
   "metadata": {},
   "outputs": [
    {
     "name": "stdout",
     "output_type": "stream",
     "text": [
      "Before swap: a = 4 and b = 8\n",
      "After swap: a = 8 and b = 4\n"
     ]
    }
   ],
   "source": [
    "#Question 4\n",
    "#Write a program to swap two numbers in Python WITHOUT the help of a temporary number\n",
    "\n",
    "a = 4\n",
    "b = 8\n",
    "print(\"Before swap: a =\",a,\"and b =\",b)\n",
    "a, b = b, a\n",
    "print(\"After swap: a =\",a,\"and b =\",b)"
   ]
  },
  {
   "cell_type": "code",
   "execution_count": 24,
   "metadata": {},
   "outputs": [
    {
     "name": "stdout",
     "output_type": "stream",
     "text": [
      "Temperature in Kelvin = 400 K\n",
      "Temperature in Celsius = 126.85 C\n",
      "Temperature in Fahrenheit = 260.33 F\n"
     ]
    }
   ],
   "source": [
    "#Question 5\n",
    "#Write a program to convert Fahrenheit to Kelvin and Celsius both\n",
    "\n",
    "TempinK = 400\n",
    "TempinC = round((TempinK - 273.15),2)\n",
    "TempinF = round(((9/5)*(TempinK - 273.15)+32),2)\n",
    "\n",
    "print(\"Temperature in Kelvin =\",TempinK,\"K\")\n",
    "print(\"Temperature in Celsius =\",TempinC,\"C\")\n",
    "print(\"Temperature in Fahrenheit =\",TempinF,\"F\")"
   ]
  },
  {
   "cell_type": "code",
   "execution_count": 45,
   "metadata": {},
   "outputs": [
    {
     "name": "stdout",
     "output_type": "stream",
     "text": [
      "<class 'str'>\n",
      "<class 'int'>\n",
      "<class 'float'>\n",
      "<class 'complex'>\n",
      "<class 'bool'>\n",
      "<class 'list'>\n",
      "<class 'tuple'>\n",
      "<class 'dict'>\n",
      "<class 'set'>\n",
      "<class 'range'>\n",
      "<class 'frozenset'>\n",
      "<class 'bytes'>\n",
      "<class 'bytearray'>\n",
      "<class 'memoryview'>\n"
     ]
    }
   ],
   "source": [
    "#Question 6\n",
    "#Write a program to demonstrate all available data types in Python\n",
    "\n",
    "print(type(\"Hello\"))\n",
    "print(type(2))\n",
    "print(type(2.0))\n",
    "print(type(1+4j))\n",
    "print(type(True))\n",
    "print(type([0,1,2]))\n",
    "print(type((0,1,2)))\n",
    "print(type({1:\"Mumbai\",2:\"Delhi\",3:\"Kolkata\"}))\n",
    "print(type({1,2,3}))\n",
    "print(type(range(5)))\n",
    "print(type(frozenset({\"apple\", \"banana\", \"cherry\"})))\n",
    "print(type(b\"Hello\"))\n",
    "print(type(bytearray(5)))\n",
    "print(type(memoryview(bytes(5))))"
   ]
  },
  {
   "cell_type": "markdown",
   "metadata": {},
   "source": [
    "#### Question 7\n",
    "#### Create a markdown cell in Jupyter and list the steps discussed in the session to create Github profile and upload the Githubs Assignment link\n",
    "\n",
    "# How to submit Assignments?\n",
    "\n",
    "1. Create a GitHub public repo and name it *LetsUpgrade AI/ML*\n",
    "2. Upload the files/solution in the repo in day wise manner.\n",
    "3. Copy the URL of the Folder of that day and paste in the Assignment Submission Form (Google Form)\n",
    "4. Make sure you are filling correct details in the Assignment Submission Form.\n",
    "5. All the drop-downs will be available till the week end only. i.e Previous weeks drop-down will disappear on each Sunday 11:59 PM\n",
    "6. You have to submit all the assignment given during the weekdays by respective SUNDAY 11:59 PM IST.\n",
    "\n",
    "Click [here](https://github.com/amitdharamsi/LetsUpgrade-AI-ML) to go to my GitHub repository. This is the link to my GitHub Repository - https://github.com/amitdharamsi/LetsUpgrade-AI-ML\n",
    "\n",
    "[![Img Alt Text](http://img.youtube.com/vi/9ov287Q42xw/0.jpg)](https://www.youtube.com/watch?v=9ov287Q42xw \"LetsUpgrade Machine Learning\")"
   ]
  }
 ],
 "metadata": {
  "kernelspec": {
   "display_name": "Python 3",
   "language": "python",
   "name": "python3"
  },
  "language_info": {
   "codemirror_mode": {
    "name": "ipython",
    "version": 3
   },
   "file_extension": ".py",
   "mimetype": "text/x-python",
   "name": "python",
   "nbconvert_exporter": "python",
   "pygments_lexer": "ipython3",
   "version": "3.7.6"
  }
 },
 "nbformat": 4,
 "nbformat_minor": 4
}
