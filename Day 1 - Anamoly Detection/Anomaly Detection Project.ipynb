{
 "cells": [
  {
   "cell_type": "markdown",
   "metadata": {},
   "source": [
    "# Import Python Packages"
   ]
  },
  {
   "cell_type": "code",
   "execution_count": 70,
   "metadata": {},
   "outputs": [],
   "source": [
    "import os\n",
    "import sys\n",
    "import numpy as np\n",
    "import pandas as pd\n",
    "from sklearn.model_selection import train_test_split\n",
    "from scipy.io import loadmat"
   ]
  },
  {
   "cell_type": "markdown",
   "metadata": {},
   "source": [
    "# Import Pyod packages and methods"
   ]
  },
  {
   "cell_type": "code",
   "execution_count": 71,
   "metadata": {},
   "outputs": [],
   "source": [
    "from pyod.models.pca import PCA\n",
    "from pyod.models.mcd import MCD\n",
    "from pyod.models.ocsvm import OCSVM\n",
    "from pyod.models.lof import LOF\n",
    "from pyod.models.cblof import CBLOF\n",
    "from pyod.models.knn import KNN\n",
    "from pyod.models.hbos import HBOS\n",
    "from pyod.models.abod import ABOD\n",
    "from pyod.models.iforest import IForest\n",
    "from pyod.models.feature_bagging import FeatureBagging"
   ]
  },
  {
   "cell_type": "markdown",
   "metadata": {},
   "source": [
    "# Import Metrics Packages"
   ]
  },
  {
   "cell_type": "code",
   "execution_count": 72,
   "metadata": {},
   "outputs": [],
   "source": [
    "from pyod.utils.utility import standardizer\n",
    "from pyod.utils.utility import precision_n_scores\n",
    "from sklearn.metrics import roc_auc_score"
   ]
  },
  {
   "cell_type": "markdown",
   "metadata": {},
   "source": [
    "# Define Data"
   ]
  },
  {
   "cell_type": "code",
   "execution_count": 73,
   "metadata": {},
   "outputs": [],
   "source": [
    "mat_file_list = [\"arrhythmia.mat\",\n",
    "                 \"cardio.mat\",\n",
    "                 \"glass.mat\",\n",
    "                 \"ionosphere.mat\",\n",
    "                 \"letter.mat\",\n",
    "                 \"lympho.mat\",\n",
    "                 \"mnist.mat\", \n",
    "                 \"musk.mat\",\n",
    "                 \"optdigits.mat\",\n",
    "                 \"pendigits.mat\",\n",
    "                 \"pima.mat\",\n",
    "                 \"satellite.mat\",\n",
    "                 \"satimage-2.mat\",\n",
    "                 \"shuttle.mat\",\n",
    "                 \"vertebral.mat\",\n",
    "                 \"vowels.mat\",\n",
    "                 \"wbc.mat\"]"
   ]
  },
  {
   "cell_type": "markdown",
   "metadata": {},
   "source": [
    "# How to load MAT file"
   ]
  },
  {
   "cell_type": "code",
   "execution_count": 74,
   "metadata": {},
   "outputs": [],
   "source": [
    "data = loadmat('./Dataset/cardio.mat')"
   ]
  },
  {
   "cell_type": "code",
   "execution_count": 75,
   "metadata": {},
   "outputs": [
    {
     "data": {
      "text/plain": [
       "{'__header__': b'MATLAB 5.0 MAT-file, written by Octave 3.8.0, 2014-12-18 10:48:09 UTC',\n",
       " '__version__': '1.0',\n",
       " '__globals__': [],\n",
       " 'X': array([[ 0.00491231,  0.69319077, -0.20364049, ...,  0.23149795,\n",
       "         -0.28978574, -0.49329397],\n",
       "        [ 0.11072935, -0.07990259, -0.20364049, ...,  0.09356344,\n",
       "         -0.25638541, -0.49329397],\n",
       "        [ 0.21654639, -0.27244466, -0.20364049, ...,  0.02459619,\n",
       "         -0.25638541,  1.14001753],\n",
       "        ...,\n",
       "        [-0.41835583, -0.91998844, -0.16463485, ..., -1.49268341,\n",
       "          0.24461959, -0.49329397],\n",
       "        [-0.41835583, -0.91998844, -0.15093411, ..., -1.42371616,\n",
       "          0.14441859, -0.49329397],\n",
       "        [-0.41835583, -0.91998844, -0.20364049, ..., -1.28578165,\n",
       "          3.58465295, -0.49329397]]),\n",
       " 'y': array([[0.],\n",
       "        [0.],\n",
       "        [0.],\n",
       "        ...,\n",
       "        [1.],\n",
       "        [1.],\n",
       "        [1.]])}"
      ]
     },
     "execution_count": 75,
     "metadata": {},
     "output_type": "execute_result"
    }
   ],
   "source": [
    "data"
   ]
  },
  {
   "cell_type": "code",
   "execution_count": 76,
   "metadata": {},
   "outputs": [
    {
     "data": {
      "text/plain": [
       "5"
      ]
     },
     "execution_count": 76,
     "metadata": {},
     "output_type": "execute_result"
    }
   ],
   "source": [
    "len(data)"
   ]
  },
  {
   "cell_type": "code",
   "execution_count": 77,
   "metadata": {},
   "outputs": [
    {
     "data": {
      "text/plain": [
       "dict_keys(['__header__', '__version__', '__globals__', 'X', 'y'])"
      ]
     },
     "execution_count": 77,
     "metadata": {},
     "output_type": "execute_result"
    }
   ],
   "source": [
    "data.keys()"
   ]
  },
  {
   "cell_type": "code",
   "execution_count": 78,
   "metadata": {},
   "outputs": [
    {
     "data": {
      "text/plain": [
       "dict_values([b'MATLAB 5.0 MAT-file, written by Octave 3.8.0, 2014-12-18 10:48:09 UTC', '1.0', [], array([[ 0.00491231,  0.69319077, -0.20364049, ...,  0.23149795,\n",
       "        -0.28978574, -0.49329397],\n",
       "       [ 0.11072935, -0.07990259, -0.20364049, ...,  0.09356344,\n",
       "        -0.25638541, -0.49329397],\n",
       "       [ 0.21654639, -0.27244466, -0.20364049, ...,  0.02459619,\n",
       "        -0.25638541,  1.14001753],\n",
       "       ...,\n",
       "       [-0.41835583, -0.91998844, -0.16463485, ..., -1.49268341,\n",
       "         0.24461959, -0.49329397],\n",
       "       [-0.41835583, -0.91998844, -0.15093411, ..., -1.42371616,\n",
       "         0.14441859, -0.49329397],\n",
       "       [-0.41835583, -0.91998844, -0.20364049, ..., -1.28578165,\n",
       "         3.58465295, -0.49329397]]), array([[0.],\n",
       "       [0.],\n",
       "       [0.],\n",
       "       ...,\n",
       "       [1.],\n",
       "       [1.],\n",
       "       [1.]])])"
      ]
     },
     "execution_count": 78,
     "metadata": {},
     "output_type": "execute_result"
    }
   ],
   "source": [
    "data.values()"
   ]
  },
  {
   "cell_type": "markdown",
   "metadata": {},
   "source": [
    "# Input (Independent) Feature Shape in MAT File format"
   ]
  },
  {
   "cell_type": "code",
   "execution_count": 79,
   "metadata": {},
   "outputs": [
    {
     "data": {
      "text/plain": [
       "(numpy.ndarray, (1831, 21))"
      ]
     },
     "execution_count": 79,
     "metadata": {},
     "output_type": "execute_result"
    }
   ],
   "source": [
    "type(data['X']), data['X'].shape"
   ]
  },
  {
   "cell_type": "markdown",
   "metadata": {},
   "source": [
    "# Dependent / Target / Ouput Feature Shape"
   ]
  },
  {
   "cell_type": "code",
   "execution_count": 80,
   "metadata": {},
   "outputs": [
    {
     "data": {
      "text/plain": [
       "(numpy.ndarray, (1831, 1))"
      ]
     },
     "execution_count": 80,
     "metadata": {},
     "output_type": "execute_result"
    }
   ],
   "source": [
    "type(data['y']), data['y'].shape"
   ]
  },
  {
   "cell_type": "markdown",
   "metadata": {},
   "source": [
    "# Exploring all MAT files"
   ]
  },
  {
   "cell_type": "code",
   "execution_count": 81,
   "metadata": {},
   "outputs": [],
   "source": [
    "from time import time\n",
    "random_state = np.random.RandomState(42)"
   ]
  },
  {
   "cell_type": "code",
   "execution_count": null,
   "metadata": {},
   "outputs": [
    {
     "name": "stdout",
     "output_type": "stream",
     "text": [
      "\n",
      "....Processing arrhythmia.mat ....\n",
      "Outliers Percentage: 14.6018\n",
      "Angle-based Outlier Detector (ABOD) ROC:0.7687, precision @ rank n:0.3571, execution_time: 0.1177s\n",
      "Cluster-based Local Outlier Factor ROC:0.7684, precision @ rank n:0.4643, execution_time: 0.1047s\n",
      "Feature Bagging ROC:0.7799, precision @ rank n:0.5, execution_time: 0.5137s\n",
      "Histogram-base Outlier Detection (HBOS) ROC:0.8511, precision @ rank n:0.5714, execution_time: 0.0467s\n",
      "Isolation Forest ROC:0.8527, precision @ rank n:0.5714, execution_time: 0.2933s\n",
      "K Nearest Neighbors (KNN) ROC:0.782, precision @ rank n:0.5, execution_time: 0.0708s\n",
      "Average KNN ROC:0.782, precision @ rank n:0.5, execution_time: 0.0708s\n"
     ]
    },
    {
     "name": "stderr",
     "output_type": "stream",
     "text": [
      "E:\\anaconda3\\lib\\site-packages\\sklearn\\covariance\\_robust_covariance.py:644: UserWarning: The covariance matrix associated to your dataset is not full rank\n",
      "  warnings.warn(\"The covariance matrix associated to your dataset \"\n"
     ]
    },
    {
     "name": "stdout",
     "output_type": "stream",
     "text": [
      "Minimum Covariance Determinant (MCD) ROC:0.8228, precision @ rank n:0.4286, execution_time: 0.4398s\n",
      "One-class SVM (OCSVM) ROC:0.7986, precision @ rank n:0.5, execution_time: 0.0409s\n",
      "Principal Component Analysis (PCA) ROC:0.7997, precision @ rank n:0.5, execution_time: 0.0439s\n",
      "\n",
      "....Processing cardio.mat ....\n",
      "Outliers Percentage: 9.6122\n",
      "Angle-based Outlier Detector (ABOD) ROC:0.5763, precision @ rank n:0.1875, execution_time: 0.3042s\n",
      "Cluster-based Local Outlier Factor ROC:0.8221, precision @ rank n:0.4844, execution_time: 0.1416s\n",
      "Feature Bagging ROC:0.4879, precision @ rank n:0.1406, execution_time: 0.6353s\n",
      "Histogram-base Outlier Detection (HBOS) ROC:0.8453, precision @ rank n:0.4688, execution_time: 0.006s\n",
      "Isolation Forest ROC:0.9414, precision @ rank n:0.5, execution_time: 0.3012s\n",
      "K Nearest Neighbors (KNN) ROC:0.6959, precision @ rank n:0.2812, execution_time: 0.1187s\n",
      "Average KNN ROC:0.6959, precision @ rank n:0.2812, execution_time: 0.1167s\n"
     ]
    },
    {
     "name": "stderr",
     "output_type": "stream",
     "text": [
      "E:\\anaconda3\\lib\\site-packages\\sklearn\\covariance\\_robust_covariance.py:644: UserWarning: The covariance matrix associated to your dataset is not full rank\n",
      "  warnings.warn(\"The covariance matrix associated to your dataset \"\n",
      "E:\\anaconda3\\lib\\site-packages\\sklearn\\covariance\\_robust_covariance.py:170: RuntimeWarning: Determinant has increased; this should not happen: log(det) > log(previous_det) (-152.770956835748848 > -250.696836140088948). You may want to try with a higher value of support_fraction (current value: 0.511).\n",
      "  RuntimeWarning)\n"
     ]
    },
    {
     "name": "stdout",
     "output_type": "stream",
     "text": [
      "Minimum Covariance Determinant (MCD) ROC:0.8778, precision @ rank n:0.3906, execution_time: 0.392s\n",
      "One-class SVM (OCSVM) ROC:0.9507, precision @ rank n:0.5938, execution_time: 0.0708s\n",
      "Principal Component Analysis (PCA) ROC:0.9638, precision @ rank n:0.6875, execution_time: 0.003s\n",
      "\n",
      "....Processing glass.mat ....\n",
      "Outliers Percentage: 4.2056\n",
      "Angle-based Outlier Detector (ABOD) ROC:0.7104, precision @ rank n:0.25, execution_time: 0.0399s\n",
      "Cluster-based Local Outlier Factor ROC:0.8506, precision @ rank n:0.25, execution_time: 0.0319s\n",
      "Feature Bagging ROC:0.7043, precision @ rank n:0.25, execution_time: 0.0269s\n",
      "Histogram-base Outlier Detection (HBOS) ROC:0.6524, precision @ rank n:0.0, execution_time: 0.002s\n",
      "Isolation Forest ROC:0.7195, precision @ rank n:0.25, execution_time: 0.2294s\n",
      "K Nearest Neighbors (KNN) ROC:0.7805, precision @ rank n:0.25, execution_time: 0.007s\n",
      "Average KNN ROC:0.7805, precision @ rank n:0.25, execution_time: 0.007s\n",
      "Minimum Covariance Determinant (MCD) ROC:0.7165, precision @ rank n:0.0, execution_time: 0.0239s\n",
      "One-class SVM (OCSVM) ROC:0.6189, precision @ rank n:0.25, execution_time: 0.001s\n",
      "Principal Component Analysis (PCA) ROC:0.622, precision @ rank n:0.25, execution_time: 0.001s\n",
      "\n",
      "....Processing ionosphere.mat ....\n",
      "Outliers Percentage: 35.8974\n",
      "Angle-based Outlier Detector (ABOD) ROC:0.9004, precision @ rank n:0.8214, execution_time: 0.0588s\n",
      "Cluster-based Local Outlier Factor ROC:0.8952, precision @ rank n:0.8036, execution_time: 0.0459s\n",
      "Feature Bagging ROC:0.8933, precision @ rank n:0.75, execution_time: 0.0619s\n",
      "Histogram-base Outlier Detection (HBOS) ROC:0.5195, precision @ rank n:0.3393, execution_time: 0.007s\n",
      "Isolation Forest ROC:0.8309, precision @ rank n:0.6607, execution_time: 0.2573s\n",
      "K Nearest Neighbors (KNN) ROC:0.9134, precision @ rank n:0.8393, execution_time: 0.014s\n",
      "Average KNN ROC:0.9134, precision @ rank n:0.8393, execution_time: 0.013s\n",
      "Minimum Covariance Determinant (MCD) ROC:0.9399, precision @ rank n:0.8571, execution_time: 0.0509s\n",
      "One-class SVM (OCSVM) ROC:0.8372, precision @ rank n:0.7143, execution_time: 0.005s\n",
      "Principal Component Analysis (PCA) ROC:0.7971, precision @ rank n:0.5893, execution_time: 0.002s\n",
      "\n",
      "....Processing letter.mat ....\n",
      "Outliers Percentage: 6.25\n",
      "Angle-based Outlier Detector (ABOD) ROC:0.8465, precision @ rank n:0.275, execution_time: 0.2832s\n",
      "Cluster-based Local Outlier Factor ROC:0.7423, precision @ rank n:0.175, execution_time: 0.0947s\n",
      "Feature Bagging ROC:0.866, precision @ rank n:0.4, execution_time: 0.5894s\n",
      "Histogram-base Outlier Detection (HBOS) ROC:0.5728, precision @ rank n:0.125, execution_time: 0.008s\n",
      "Isolation Forest ROC:0.5778, precision @ rank n:0.05, execution_time: 0.2893s\n",
      "K Nearest Neighbors (KNN) ROC:0.845, precision @ rank n:0.3, execution_time: 0.1027s\n",
      "Average KNN ROC:0.845, precision @ rank n:0.3, execution_time: 0.1027s\n",
      "Minimum Covariance Determinant (MCD) ROC:0.7499, precision @ rank n:0.075, execution_time: 0.8019s\n",
      "One-class SVM (OCSVM) ROC:0.5744, precision @ rank n:0.1, execution_time: 0.0618s\n",
      "Principal Component Analysis (PCA) ROC:0.48, precision @ rank n:0.05, execution_time: 0.006s\n",
      "\n",
      "....Processing lympho.mat ....\n",
      "Outliers Percentage: 4.0541\n",
      "Angle-based Outlier Detector (ABOD) ROC:0.9382, precision @ rank n:0.4, execution_time: 0.0229s\n",
      "Cluster-based Local Outlier Factor ROC:0.9709, precision @ rank n:0.6, execution_time: 0.0429s\n",
      "Feature Bagging ROC:0.9673, precision @ rank n:0.6, execution_time: 0.0299s\n",
      "Histogram-base Outlier Detection (HBOS) ROC:0.9964, precision @ rank n:0.8, execution_time: 0.005s\n",
      "Isolation Forest ROC:0.9855, precision @ rank n:0.6, execution_time: 0.2214s\n",
      "K Nearest Neighbors (KNN) ROC:0.9636, precision @ rank n:0.6, execution_time: 0.006s\n",
      "Average KNN ROC:0.9636, precision @ rank n:0.6, execution_time: 0.005s\n",
      "Minimum Covariance Determinant (MCD) ROC:0.9164, precision @ rank n:0.6, execution_time: 0.0259s\n",
      "One-class SVM (OCSVM) ROC:0.9636, precision @ rank n:0.6, execution_time: 0.001s\n",
      "Principal Component Analysis (PCA) ROC:0.9818, precision @ rank n:0.8, execution_time: 0.001s\n",
      "\n",
      "....Processing mnist.mat ....\n",
      "Outliers Percentage: 9.2069\n"
     ]
    },
    {
     "name": "stderr",
     "output_type": "stream",
     "text": [
      "E:\\anaconda3\\lib\\site-packages\\sklearn\\covariance\\_robust_covariance.py:170: RuntimeWarning: Determinant has increased; this should not happen: log(det) > log(previous_det) (-303.881944356529402 > -525.830836350540153). You may want to try with a higher value of support_fraction (current value: 0.614).\n",
      "  RuntimeWarning)\n",
      "E:\\anaconda3\\lib\\site-packages\\sklearn\\covariance\\_robust_covariance.py:170: RuntimeWarning: Determinant has increased; this should not happen: log(det) > log(previous_det) (-304.021763033307082 > -523.143378896311901). You may want to try with a higher value of support_fraction (current value: 0.614).\n",
      "  RuntimeWarning)\n",
      "E:\\anaconda3\\lib\\site-packages\\sklearn\\covariance\\_robust_covariance.py:170: RuntimeWarning: Determinant has increased; this should not happen: log(det) > log(previous_det) (-338.921775030610604 > -381.672782741425522). You may want to try with a higher value of support_fraction (current value: 0.614).\n",
      "  RuntimeWarning)\n"
     ]
    },
    {
     "name": "stdout",
     "output_type": "stream",
     "text": [
      "Angle-based Outlier Detector (ABOD) ROC:0.7813, precision @ rank n:0.3562, execution_time: 5.3357s\n",
      "Cluster-based Local Outlier Factor ROC:0.8447, precision @ rank n:0.4007, execution_time: 0.7769s\n",
      "Feature Bagging ROC:0.7259, precision @ rank n:0.3664, execution_time: 39.1712s\n",
      "Histogram-base Outlier Detection (HBOS) ROC:0.5675, precision @ rank n:0.1199, execution_time: 0.0369s\n",
      "Isolation Forest ROC:0.7801, precision @ rank n:0.2979, execution_time: 1.2637s\n",
      "K Nearest Neighbors (KNN) ROC:0.8409, precision @ rank n:0.4144, execution_time: 4.885s\n",
      "Average KNN ROC:0.8409, precision @ rank n:0.4144, execution_time: 5.58s\n"
     ]
    },
    {
     "name": "stderr",
     "output_type": "stream",
     "text": [
      "E:\\anaconda3\\lib\\site-packages\\sklearn\\covariance\\_robust_covariance.py:644: UserWarning: The covariance matrix associated to your dataset is not full rank\n",
      "  warnings.warn(\"The covariance matrix associated to your dataset \"\n"
     ]
    }
   ],
   "source": [
    "for mat_file in mat_file_list:\n",
    "    print(\"\\n....Processing\",mat_file,'....')\n",
    "    mat = loadmat(os.path.join('Dataset',mat_file))\n",
    "    \n",
    "    X = mat['X']\n",
    "    y = mat['y']\n",
    "    outliers_fraction = np.count_nonzero(y) / len(y)\n",
    "    outliers_percentage = round(outliers_fraction * 100, ndigits = 4)\n",
    "    \n",
    "    print(\"Outliers Percentage:\",outliers_percentage)\n",
    "    \n",
    "    #construct containers to save the results\n",
    "    roc_list = [mat_file[:-4], X.shape[0], X.shape[1], outliers_percentage]\n",
    "    prn_list = [mat_file[:-4], X.shape[0], X.shape[1], outliers_percentage]\n",
    "    time_list = [mat_file[:-4], X.shape[0], X.shape[1], outliers_percentage]\n",
    "    \n",
    "    #training and test data split\n",
    "    X_train, X_test, y_train, y_test = train_test_split(X, y, test_size = 0.4, random_state=random_state)\n",
    "    \n",
    "    #standardizing the data from processing\n",
    "    X_train_norm, X_test_norm = standardizer(X_train,X_test)\n",
    "    \n",
    "    classifiers = {'Angle-based Outlier Detector (ABOD)': ABOD(contamination = outliers_fraction),\n",
    "                  'Cluster-based Local Outlier Factor': CBLOF(contamination = outliers_fraction, check_estimator=False, random_state=random_state),\n",
    "                   'Feature Bagging':FeatureBagging(contamination=outliers_fraction, random_state=random_state),\n",
    "                   'Histogram-base Outlier Detection (HBOS)': HBOS(contamination=outliers_fraction),\n",
    "                   'Isolation Forest': IForest(contamination=outliers_fraction,random_state=random_state),\n",
    "                   'K Nearest Neighbors (KNN)': KNN(contamination=outliers_fraction),\n",
    "                   'Average KNN': KNN(contamination=outliers_fraction),\n",
    "                   'Minimum Covariance Determinant (MCD)': MCD(contamination=outliers_fraction, random_state=random_state),\n",
    "                   'One-class SVM (OCSVM)':OCSVM(contamination=outliers_fraction),\n",
    "                   'Principal Component Analysis (PCA)':PCA(contamination=outliers_fraction, random_state=random_state)\n",
    "                  }\n",
    "    \n",
    "    for clf_name, clf in classifiers.items():\n",
    "        t0 = time()\n",
    "        clf.fit(X_train_norm)\n",
    "        test_scores = clf.decision_function(X_test_norm)\n",
    "        t1 = time()\n",
    "        duration = round(t1 - t0, ndigits=4)\n",
    "        time_list.append(duration)\n",
    "        \n",
    "        roc = round(roc_auc_score(y_test,test_scores), ndigits=4)\n",
    "        prn = round(precision_n_scores(y_test,test_scores), ndigits=4)\n",
    "        \n",
    "        print('{clf_name} ROC:{roc}, precision @ rank n:{prn}, execution_time: {duration}s'.format(clf_name=clf_name, roc=roc, prn=prn, duration=duration))\n",
    "        roc_list.append(roc)\n",
    "        prn_list.append(prn)\n",
    "        \n",
    "        \n",
    "    #temp_df = pd.DataFrame(time_list).transpose()\n",
    "    #temp_df.columns = df_columns\n",
    "    #time_df = pd.concat([time_df, temp_df], axis = 0)\n",
    "    \n",
    "    #temp_df = pd.DataFrame(toc_list).transpose()\n",
    "    #temp_df.columns = df_columns\n",
    "    #roc_df = pd.concat([roc_df, temp_df], axis = 0)\n",
    "    \n",
    "    #temp_df = pd.DataFrame(prn_list).transpose()\n",
    "    #temp_df.columns = df_columns\n",
    "    #prn_df = pd.concat([prn_df, temp_df], axis = 0)\n",
    "    "
   ]
  },
  {
   "cell_type": "code",
   "execution_count": null,
   "metadata": {},
   "outputs": [],
   "source": []
  }
 ],
 "metadata": {
  "kernelspec": {
   "display_name": "Python 3",
   "language": "python",
   "name": "python3"
  },
  "language_info": {
   "codemirror_mode": {
    "name": "ipython",
    "version": 3
   },
   "file_extension": ".py",
   "mimetype": "text/x-python",
   "name": "python",
   "nbconvert_exporter": "python",
   "pygments_lexer": "ipython3",
   "version": "3.7.6"
  }
 },
 "nbformat": 4,
 "nbformat_minor": 4
}
